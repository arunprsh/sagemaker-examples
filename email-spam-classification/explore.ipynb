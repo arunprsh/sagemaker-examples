{
 "cells": [
  {
   "cell_type": "markdown",
   "metadata": {},
   "source": [
    "#### Imports "
   ]
  },
  {
   "cell_type": "code",
   "execution_count": 1,
   "metadata": {},
   "outputs": [],
   "source": [
    "import pandas as pd\n",
    "pd.set_option('display.max_colwidth', 400)"
   ]
  },
  {
   "cell_type": "code",
   "execution_count": 2,
   "metadata": {},
   "outputs": [],
   "source": [
    "import sagemaker"
   ]
  },
  {
   "cell_type": "markdown",
   "metadata": {},
   "source": [
    "#### Explore data"
   ]
  },
  {
   "cell_type": "code",
   "execution_count": 3,
   "metadata": {},
   "outputs": [
    {
     "data": {
      "text/html": [
       "<div>\n",
       "<style scoped>\n",
       "    .dataframe tbody tr th:only-of-type {\n",
       "        vertical-align: middle;\n",
       "    }\n",
       "\n",
       "    .dataframe tbody tr th {\n",
       "        vertical-align: top;\n",
       "    }\n",
       "\n",
       "    .dataframe thead th {\n",
       "        text-align: right;\n",
       "    }\n",
       "</style>\n",
       "<table border=\"1\" class=\"dataframe\">\n",
       "  <thead>\n",
       "    <tr style=\"text-align: right;\">\n",
       "      <th></th>\n",
       "      <th>label</th>\n",
       "      <th>email</th>\n",
       "    </tr>\n",
       "  </thead>\n",
       "  <tbody>\n",
       "    <tr>\n",
       "      <th>0</th>\n",
       "      <td>0</td>\n",
       "      <td>Subject: colleen sullivan - ees / wholesale project\\n i talked with jeanie slone today regarding the project you ' d like me to work on for the next few months . i told jeanie i will be able to start on august 13 th . ( i will be out of town august 1 - 4 th , then again august 7 - 10 th . ) i would sure appreciate your calling or e - mailing me before the 13 th with a quick overview of what yo...</td>\n",
       "    </tr>\n",
       "    <tr>\n",
       "      <th>1</th>\n",
       "      <td>1</td>\n",
       "      <td>Subject: small business promotion\\n \\n = 3d = 3d = 3d = 3d = 3d = 3d = 3d = 3d = 3d = 3d = 3d = 3d = 3d = 3d = 3d = 3d = 3d = 3d = 3d = 3d = 3d = 3d = 3d = 3d = 3d = = 3d = 3d = 3d = 3d = 3d = 3d = 3d = 3d = 3d = 3d = 3d = 3d = 3d = 3d = 3d = 3d = 3d = 3d = 3d = 3d = 3d = 3d = 3d = 3d = 3d = = 3d = 3d = 3d = 3d = 3d = 3d = 3d = 3d = 3d = 3d for all your internet marketing go to http : / / www ...</td>\n",
       "    </tr>\n",
       "    <tr>\n",
       "      <th>2</th>\n",
       "      <td>0</td>\n",
       "      <td>Subject: holiday safety reminder\\n holiday safety reminder\\n the holiday season can mean an increased risk of fires and a higher potential\\n for criminal activity due to people taking advantage of convenient downtown\\n shopping and because of the increased number of special events and office\\n parties . we would like to pass along a few safety and security tips from the\\n city of houston fire ...</td>\n",
       "    </tr>\n",
       "    <tr>\n",
       "      <th>3</th>\n",
       "      <td>0</td>\n",
       "      <td>Subject: logical aspects of computational linguistics ( lacl ' 98 )\\n \\n logical aspects of computational linguistics ( lacl ' 98 ) = = = = = = = = = = = = = = = = = = = = = = = = = = = = = = = = = = = = = = = = = = = = = = = = = = = = = aspects logiques de la linguistique informatique = = = = = = = = = = = = = = = = = = = = = = = = = = = = = = = = = = = = = = = = = = = = = = = = = = = = = coo...</td>\n",
       "    </tr>\n",
       "    <tr>\n",
       "      <th>4</th>\n",
       "      <td>1</td>\n",
       "      <td>Subject: notice : here is the money we owe you\\n dear applicant ,\\n after further review upon receiving your application your current mortgage qualifies for a 3 % lower rate .\\n your new monthly payment will be as low as $ 340 / month for a $ 200 , 000 loan .\\n please confirm your information in order for us to finalize your loan , or you may also apply for a new one .\\n complete the final ste...</td>\n",
       "    </tr>\n",
       "  </tbody>\n",
       "</table>\n",
       "</div>"
      ],
      "text/plain": [
       "   label  \\\n",
       "0      0   \n",
       "1      1   \n",
       "2      0   \n",
       "3      0   \n",
       "4      1   \n",
       "\n",
       "                                                                                                                                                                                                                                                                                                                                                                                                             email  \n",
       "0  Subject: colleen sullivan - ees / wholesale project\\n i talked with jeanie slone today regarding the project you ' d like me to work on for the next few months . i told jeanie i will be able to start on august 13 th . ( i will be out of town august 1 - 4 th , then again august 7 - 10 th . ) i would sure appreciate your calling or e - mailing me before the 13 th with a quick overview of what yo...  \n",
       "1  Subject: small business promotion\\n \\n = 3d = 3d = 3d = 3d = 3d = 3d = 3d = 3d = 3d = 3d = 3d = 3d = 3d = 3d = 3d = 3d = 3d = 3d = 3d = 3d = 3d = 3d = 3d = 3d = 3d = = 3d = 3d = 3d = 3d = 3d = 3d = 3d = 3d = 3d = 3d = 3d = 3d = 3d = 3d = 3d = 3d = 3d = 3d = 3d = 3d = 3d = 3d = 3d = 3d = 3d = = 3d = 3d = 3d = 3d = 3d = 3d = 3d = 3d = 3d = 3d for all your internet marketing go to http : / / www ...  \n",
       "2  Subject: holiday safety reminder\\n holiday safety reminder\\n the holiday season can mean an increased risk of fires and a higher potential\\n for criminal activity due to people taking advantage of convenient downtown\\n shopping and because of the increased number of special events and office\\n parties . we would like to pass along a few safety and security tips from the\\n city of houston fire ...  \n",
       "3  Subject: logical aspects of computational linguistics ( lacl ' 98 )\\n \\n logical aspects of computational linguistics ( lacl ' 98 ) = = = = = = = = = = = = = = = = = = = = = = = = = = = = = = = = = = = = = = = = = = = = = = = = = = = = = aspects logiques de la linguistique informatique = = = = = = = = = = = = = = = = = = = = = = = = = = = = = = = = = = = = = = = = = = = = = = = = = = = = = coo...  \n",
       "4  Subject: notice : here is the money we owe you\\n dear applicant ,\\n after further review upon receiving your application your current mortgage qualifies for a 3 % lower rate .\\n your new monthly payment will be as low as $ 340 / month for a $ 200 , 000 loan .\\n please confirm your information in order for us to finalize your loan , or you may also apply for a new one .\\n complete the final ste...  "
      ]
     },
     "execution_count": 3,
     "metadata": {},
     "output_type": "execute_result"
    }
   ],
   "source": [
    "df = pd.read_csv('./data/train.csv', names=['label', 'email'])\n",
    "df.head()"
   ]
  },
  {
   "cell_type": "code",
   "execution_count": 4,
   "metadata": {},
   "outputs": [
    {
     "data": {
      "text/plain": [
       "(17650, 2)"
      ]
     },
     "execution_count": 4,
     "metadata": {},
     "output_type": "execute_result"
    }
   ],
   "source": [
    "df.shape"
   ]
  },
  {
   "cell_type": "markdown",
   "metadata": {},
   "source": [
    "#### Copy data from local to S3"
   ]
  },
  {
   "cell_type": "code",
   "execution_count": 5,
   "metadata": {},
   "outputs": [
    {
     "name": "stdout",
     "output_type": "stream",
     "text": [
      "Default S3 bucket = sagemaker-us-east-1-119174016168\n"
     ]
    }
   ],
   "source": [
    "session = sagemaker.Session()\n",
    "default_bucket = session.default_bucket()\n",
    "print(f'Default S3 bucket = {default_bucket}')"
   ]
  },
  {
   "cell_type": "code",
   "execution_count": 6,
   "metadata": {},
   "outputs": [
    {
     "name": "stdout",
     "output_type": "stream",
     "text": [
      "upload: data/train.csv to s3://sagemaker-us-east-1-119174016168/spam-detection/data.csv\n"
     ]
    }
   ],
   "source": [
    "!aws s3 cp ./data/train.csv s3://{default_bucket}/spam-detection/data.csv"
   ]
  },
  {
   "cell_type": "code",
   "execution_count": null,
   "metadata": {},
   "outputs": [],
   "source": []
  }
 ],
 "metadata": {
  "instance_type": "ml.t3.medium",
  "kernelspec": {
   "display_name": "Python 3 (Data Science)",
   "language": "python",
   "name": "python3__SAGEMAKER_INTERNAL__arn:aws:sagemaker:us-east-1:081325390199:image/datascience-1.0"
  },
  "language_info": {
   "codemirror_mode": {
    "name": "ipython",
    "version": 3
   },
   "file_extension": ".py",
   "mimetype": "text/x-python",
   "name": "python",
   "nbconvert_exporter": "python",
   "pygments_lexer": "ipython3",
   "version": "3.7.10"
  }
 },
 "nbformat": 4,
 "nbformat_minor": 4
}
