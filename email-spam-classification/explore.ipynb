{
 "cells": [
  {
   "cell_type": "markdown",
   "metadata": {},
   "source": [
    "#### Imports "
   ]
  },
  {
   "cell_type": "code",
   "execution_count": 2,
   "metadata": {},
   "outputs": [],
   "source": [
    "import pandas as pd\n",
    "pd.set_option('display.max_colwidth', 400)"
   ]
  },
  {
   "cell_type": "markdown",
   "metadata": {},
   "source": [
    "#### Explore data"
   ]
  },
  {
   "cell_type": "code",
   "execution_count": 3,
   "metadata": {},
   "outputs": [
    {
     "data": {
      "text/html": [
       "<div>\n",
       "<style scoped>\n",
       "    .dataframe tbody tr th:only-of-type {\n",
       "        vertical-align: middle;\n",
       "    }\n",
       "\n",
       "    .dataframe tbody tr th {\n",
       "        vertical-align: top;\n",
       "    }\n",
       "\n",
       "    .dataframe thead th {\n",
       "        text-align: right;\n",
       "    }\n",
       "</style>\n",
       "<table border=\"1\" class=\"dataframe\">\n",
       "  <thead>\n",
       "    <tr style=\"text-align: right;\">\n",
       "      <th></th>\n",
       "      <th>label</th>\n",
       "      <th>email</th>\n",
       "    </tr>\n",
       "  </thead>\n",
       "  <tbody>\n",
       "    <tr>\n",
       "      <th>0</th>\n",
       "      <td>0</td>\n",
       "      <td>Subject: re : anita dupont resume\\n oooopppss !\\n please disregard the e - mail below as i see now that shirley has already sent\\n the job description to norma villarreal .\\n my apologies .\\n irma alvarez\\n ext . 3 - 1543\\n - - - - - - - - - - - - - - - - - - - - - - forwarded by sheila walton / hou / ect on 08 / 07 / 2000 11 : 20\\n pm - - - - - - - - - - - - - - - - - - - - - - - - - - -\\n fr...</td>\n",
       "    </tr>\n",
       "    <tr>\n",
       "      <th>1</th>\n",
       "      <td>1</td>\n",
       "      <td>Subject: fancy a flutter ? here 's atip\\n \\n for thursday 26th march for the best racing tip of the day phone 0897-555293 after 1 . 30pm . do n't believe me , try it , all you will risk is a 50p phone call but you could gain a very entertaining additional source of income . fact ! the information recorded on this telephone number on most race days has consistently produced winning bets at a hi...</td>\n",
       "    </tr>\n",
       "    <tr>\n",
       "      <th>2</th>\n",
       "      <td>0</td>\n",
       "      <td>Subject: re : re - start / integration planning\\n enrononline / netcoonline status update :\\n - \" netcoonline \" will be distinct from enrononline , with much the same functionality and a refreshed look .\\n - we will carry data to support the same gas and power products as were on enrononline . please contact us if you will need different products from what was on enrononline .\\n - we have prep...</td>\n",
       "    </tr>\n",
       "    <tr>\n",
       "      <th>3</th>\n",
       "      <td>0</td>\n",
       "      <td>URL: http://www.askbjoernhansen.com/archives/2002/09/20.html\\nDate: 2002-09-20T17:10:35-08:00Yesterday Viridiana came to my place and dragged me out to look at the sky. It \\nwas beautiful. Odd colors and light. Obviously we wondered what it was. Today \\nJim explains it. (It was a rocket test from the Vandenburg air force base). \\nVery neat. It was a bit too blurred out when I saw it, and there...</td>\n",
       "    </tr>\n",
       "    <tr>\n",
       "      <th>4</th>\n",
       "      <td>1</td>\n",
       "      <td>Subject: last minute deals - - airfare , cruises , hotels charset = utf - 8 \" &gt;\\n travelocitymexico air sale fly rt from only 165\\n expediacaribbean fall sale , air + 3 nts hotel only 366\\n travelocitylast minute vacations w / airfare only 177\\n travel by jen . comjamaica negril , air , 6 days , all - inc 599\\n cruisedeals . comsuite on royal caribbean for only 375 pp\\n only fun vacationscabo ...</td>\n",
       "    </tr>\n",
       "  </tbody>\n",
       "</table>\n",
       "</div>"
      ],
      "text/plain": [
       "  label  \\\n",
       "0     0   \n",
       "1     1   \n",
       "2     0   \n",
       "3     0   \n",
       "4     1   \n",
       "\n",
       "                                                                                                                                                                                                                                                                                                                                                                                                             email  \n",
       "0  Subject: re : anita dupont resume\\n oooopppss !\\n please disregard the e - mail below as i see now that shirley has already sent\\n the job description to norma villarreal .\\n my apologies .\\n irma alvarez\\n ext . 3 - 1543\\n - - - - - - - - - - - - - - - - - - - - - - forwarded by sheila walton / hou / ect on 08 / 07 / 2000 11 : 20\\n pm - - - - - - - - - - - - - - - - - - - - - - - - - - -\\n fr...  \n",
       "1  Subject: fancy a flutter ? here 's atip\\n \\n for thursday 26th march for the best racing tip of the day phone 0897-555293 after 1 . 30pm . do n't believe me , try it , all you will risk is a 50p phone call but you could gain a very entertaining additional source of income . fact ! the information recorded on this telephone number on most race days has consistently produced winning bets at a hi...  \n",
       "2  Subject: re : re - start / integration planning\\n enrononline / netcoonline status update :\\n - \" netcoonline \" will be distinct from enrononline , with much the same functionality and a refreshed look .\\n - we will carry data to support the same gas and power products as were on enrononline . please contact us if you will need different products from what was on enrononline .\\n - we have prep...  \n",
       "3  URL: http://www.askbjoernhansen.com/archives/2002/09/20.html\\nDate: 2002-09-20T17:10:35-08:00Yesterday Viridiana came to my place and dragged me out to look at the sky. It \\nwas beautiful. Odd colors and light. Obviously we wondered what it was. Today \\nJim explains it. (It was a rocket test from the Vandenburg air force base). \\nVery neat. It was a bit too blurred out when I saw it, and there...  \n",
       "4  Subject: last minute deals - - airfare , cruises , hotels charset = utf - 8 \" >\\n travelocitymexico air sale fly rt from only 165\\n expediacaribbean fall sale , air + 3 nts hotel only 366\\n travelocitylast minute vacations w / airfare only 177\\n travel by jen . comjamaica negril , air , 6 days , all - inc 599\\n cruisedeals . comsuite on royal caribbean for only 375 pp\\n only fun vacationscabo ...  "
      ]
     },
     "execution_count": 3,
     "metadata": {},
     "output_type": "execute_result"
    }
   ],
   "source": [
    "df = pd.read_csv('./data/train.csv', names=['label', 'email'])\n",
    "df.head()"
   ]
  },
  {
   "cell_type": "code",
   "execution_count": 4,
   "metadata": {},
   "outputs": [
    {
     "data": {
      "text/plain": [
       "(18652, 2)"
      ]
     },
     "execution_count": 4,
     "metadata": {},
     "output_type": "execute_result"
    }
   ],
   "source": [
    "df.shape"
   ]
  },
  {
   "cell_type": "code",
   "execution_count": 43,
   "metadata": {},
   "outputs": [],
   "source": [
    "from sklearn.model_selection import train_test_split\n",
    "\n",
    "train, test = train_test_split(df, test_size=0.0536)"
   ]
  },
  {
   "cell_type": "code",
   "execution_count": 44,
   "metadata": {},
   "outputs": [
    {
     "data": {
      "text/plain": [
       "(17652, 2)"
      ]
     },
     "execution_count": 44,
     "metadata": {},
     "output_type": "execute_result"
    }
   ],
   "source": [
    "train.shape"
   ]
  },
  {
   "cell_type": "code",
   "execution_count": 45,
   "metadata": {},
   "outputs": [
    {
     "data": {
      "text/plain": [
       "(1000, 2)"
      ]
     },
     "execution_count": 45,
     "metadata": {},
     "output_type": "execute_result"
    }
   ],
   "source": [
    "test.shape"
   ]
  },
  {
   "cell_type": "code",
   "execution_count": 47,
   "metadata": {},
   "outputs": [],
   "source": [
    "test.to_csv('./data/test.csv', index=False, header=False)"
   ]
  },
  {
   "cell_type": "code",
   "execution_count": 48,
   "metadata": {},
   "outputs": [],
   "source": [
    "train.to_csv('./data/train.csv', index=False, header=False)"
   ]
  },
  {
   "cell_type": "markdown",
   "metadata": {},
   "source": [
    "##### Copy data from local to S3"
   ]
  },
  {
   "cell_type": "code",
   "execution_count": null,
   "metadata": {},
   "outputs": [],
   "source": [
    "!aws cp "
   ]
  },
  {
   "cell_type": "code",
   "execution_count": null,
   "metadata": {},
   "outputs": [],
   "source": []
  },
  {
   "cell_type": "code",
   "execution_count": null,
   "metadata": {},
   "outputs": [],
   "source": []
  },
  {
   "cell_type": "code",
   "execution_count": null,
   "metadata": {},
   "outputs": [],
   "source": []
  },
  {
   "cell_type": "code",
   "execution_count": null,
   "metadata": {},
   "outputs": [],
   "source": []
  }
 ],
 "metadata": {
  "instance_type": "ml.t3.medium",
  "kernelspec": {
   "display_name": "Python 3 (Data Science)",
   "language": "python",
   "name": "python3__SAGEMAKER_INTERNAL__arn:aws:sagemaker:us-east-1:081325390199:image/datascience-1.0"
  },
  "language_info": {
   "codemirror_mode": {
    "name": "ipython",
    "version": 3
   },
   "file_extension": ".py",
   "mimetype": "text/x-python",
   "name": "python",
   "nbconvert_exporter": "python",
   "pygments_lexer": "ipython3",
   "version": "3.7.10"
  }
 },
 "nbformat": 4,
 "nbformat_minor": 4
}
